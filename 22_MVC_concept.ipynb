{
 "cells": [
  {
   "cell_type": "markdown",
   "metadata": {},
   "source": [
    "# MVC: Model, View, Controller\n"
   ]
  },
  {
   "cell_type": "markdown",
   "metadata": {},
   "source": [
    "### Model: \n"
   ]
  },
  {
   "cell_type": "markdown",
   "metadata": {},
   "source": [
    "Model code typically reflects real-world things. This code can hold raw data, or it will define the essential components of your app. For instance, if you were building a To-do app, the model code would define what a “task” is and what a “list” is – since those are the main components of a todo app."
   ]
  },
  {
   "cell_type": "markdown",
   "metadata": {},
   "source": [
    "### View:"
   ]
  },
  {
   "cell_type": "markdown",
   "metadata": {},
   "source": [
    "View code is made up of all the functions that directly interact with the user. This is the code that makes your app look nice, and otherwise defines how your user sees and interacts with it. "
   ]
  },
  {
   "cell_type": "markdown",
   "metadata": {},
   "source": [
    "### Controller:"
   ]
  },
  {
   "cell_type": "markdown",
   "metadata": {},
   "source": [
    "Controller code acts as a liaison between the Model and the View, receiving user input and deciding what to do with it. It’s the brains of the application, and ties together the model and the view.\n",
    "\n"
   ]
  },
  {
   "cell_type": "markdown",
   "metadata": {},
   "source": [
    "### MVC IN THE REAL-WORLD"
   ]
  },
  {
   "cell_type": "markdown",
   "metadata": {},
   "source": [
    "MVC is helpful when planning your app, because it gives you an outline of how your ideas should be organized into actual code.\n",
    "\n",
    "For instance, let’s imagine you’re creating a To-do list app. This app will let users create tasks and organize them into lists.\n",
    "\n",
    "The Model in a todo app might define what what a “task” is and that a “list” is a collection of tasks.\n",
    "\n",
    "The View code will define what the todos and lists looks like, visually. The tasks could have large font, or be a certain color.\n",
    "\n",
    "Finally, the Controller could define how a user adds a task, or marks another as complete. The Controller connects the View’s add button to the Model, so that when you click “add task,” the Model adds a new task."
   ]
  },
  {
   "cell_type": "code",
   "execution_count": null,
   "metadata": {},
   "outputs": [],
   "source": []
  }
 ],
 "metadata": {
  "kernelspec": {
   "display_name": "Python 2",
   "language": "python",
   "name": "python2"
  },
  "language_info": {
   "codemirror_mode": {
    "name": "ipython",
    "version": 2
   },
   "file_extension": ".py",
   "mimetype": "text/x-python",
   "name": "python",
   "nbconvert_exporter": "python",
   "pygments_lexer": "ipython2",
   "version": "2.7.15rc1"
  }
 },
 "nbformat": 4,
 "nbformat_minor": 1
}
