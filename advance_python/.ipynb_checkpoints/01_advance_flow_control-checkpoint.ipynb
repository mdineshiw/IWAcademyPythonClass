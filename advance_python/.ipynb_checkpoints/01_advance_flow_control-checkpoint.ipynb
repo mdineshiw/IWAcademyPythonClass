{
 "cells": [
  {
   "cell_type": "markdown",
   "metadata": {},
   "source": [
    "# Advance Flow Control"
   ]
  },
  {
   "cell_type": "markdown",
   "metadata": {},
   "source": [
    "- else clause on loop\n",
    "- else clause on try blocks\n",
    "- emulatiating switch statements\n",
    "- dispatching function calls on type\n",
    "\n",
    "Unusual language features\n",
    "- Understand code you encounter"
   ]
  },
  {
   "cell_type": "markdown",
   "metadata": {},
   "source": [
    "<b>The if...else statement:</b>\n",
    "```python\n",
    "if condition:\n",
    "    execute_condition_is_true()\n",
    "else:\n",
    "    execute_condition_is_false()\n",
    "```\n",
    "<i>The else clause is executed if the condition is false</i>"
   ]
  },
  {
   "cell_type": "markdown",
   "metadata": {},
   "source": [
    "<b>The while...else statement:</b>\n",
    "```python\n",
    "    while condition:\n",
    "        execute_condition_is_true()\n",
    "    else:\n",
    "        execute_condition_id_false()\n",
    "```\n",
    "<i>The else clause is executed if or when the condition is false.</i>"
   ]
  },
  {
   "cell_type": "markdown",
   "metadata": {},
   "source": [
    "Putting the else code after the loop like as:\n",
    "```python\n",
    "    while condition:\n",
    "        execute_condition_is_true()\n",
    "    execute_condition_id_false()\n",
    "```\n",
    "<i>following statements are executed if or when the condition is false</i>"
   ]
  },
  {
   "cell_type": "markdown",
   "metadata": {},
   "source": [
    "This is right for simple case but if break statement is used like:\n",
    "```python\n",
    "    while condition:\n",
    "        flag = execute_condition_is_true()\n",
    "        if flag:\n",
    "            break\n",
    "    execute_condition_id_false()\n",
    "```\n",
    "\n",
    "<i>The else clause is executed if or when the condition is false.\n",
    "    <b>NEVER</b>\n",
    "    when we break out of the loop, irrespective of the condition\n",
    "</i>\n",
    "\n",
    "To fix we could do:\n",
    "\n",
    "```python\n",
    "    while condition:\n",
    "        flag = execute_condition_is_true()\n",
    "        if flag:\n",
    "            break\n",
    "    if not condition:\n",
    "        execute_condition_id_false()\n",
    "```\n",
    "<i>An independent if clause with a negated condition can prevent execution when breaking from the loop. But the test is duplicated which voliates the rules. <b>Voilate DRY Don't Repeat Yourself</b></i>"
   ]
  },
  {
   "cell_type": "markdown",
   "metadata": {},
   "source": [
    "```python\n",
    "    while condition:\n",
    "        execute_condition_is_true()\n",
    "    else:\n",
    "        execute_condition_id_false()\n",
    "```\n",
    "<i>while...else Allows us to avoid the redundant test.</i>"
   ]
  },
  {
   "cell_type": "markdown",
   "metadata": {},
   "source": [
    "break statement executions ju.mp over the else statements."
   ]
  },
  {
   "cell_type": "markdown",
   "metadata": {},
   "source": [
    "### while...else for Evalauting stack programs"
   ]
  },
  {
   "cell_type": "raw",
   "metadata": {},
   "source": [
    "5+2\n",
    "\n",
    "5\n",
    "2\n",
    "+ 7"
   ]
  },
  {
   "cell_type": "raw",
   "metadata": {},
   "source": [
    "(5+2)*3\n",
    "\n",
    "5\n",
    "2\n",
    "+ 7\n",
    "3 3\n",
    "* * 21"
   ]
  },
  {
   "cell_type": "markdown",
   "metadata": {},
   "source": [
    "<u>evaluator.py</u>\n",
    "\n",
    "```python\n",
    "def is_comment(item):\n",
    "    return isinstance(item, str) and item.startswith('#')\n",
    "\n",
    "def execute(program):\n",
    "    \"\"\"\n",
    "    Execute a stack program.\n",
    "    \n",
    "    Args: \n",
    "        program: Any stack like containing where each item in the stack\n",
    "        is callable operators or non-callable operands. The top-most\n",
    "        items in the stack may be string with begining with '#' for\n",
    "        the purpose of documentation. Stack like means support for:\n",
    "        \n",
    "         item = stack.pop() # remove and return the top item\n",
    "         stack.append(item) # push an item to the top\n",
    "         if stack:          # false in a boolean context when empty\n",
    "    \"\"\" \n",
    "    # Find the start of the 'program' by skipping\n",
    "    # any item which is a comment\n",
    "    while program:\n",
    "        item = program.pop()\n",
    "        if not is_comment(item):\n",
    "            program.append(item)\n",
    "            break\n",
    "    else: # noberak\n",
    "        print('empty program!')\n",
    "        return\n",
    "    \n",
    "    # evaluate the program\n",
    "    pending = []\n",
    "    while program:\n",
    "        item = program.pop()\n",
    "        if callable(item):\n",
    "            try:\n",
    "                result = item(*pending)\n",
    "            except Exception as e:\n",
    "                print('Error ', e)\n",
    "                break\n",
    "            program.append(result)\n",
    "            pending.clear()\n",
    "        else:\n",
    "            pending.append(item)\n",
    "    else: #nobrek\n",
    "        print('Program successful')\n",
    "        print('Result', pending)\n",
    "           \n",
    "    print('Finished')\n",
    "    \n",
    "if __name__ == '__main__':\n",
    "    import operator\n",
    "    \n",
    "    program = list(reversed((\n",
    "        \"# A short stack program to add\",\n",
    "        \"# add multiply some constants\",\n",
    "        5,\n",
    "        2,\n",
    "        operator.add()\n",
    "        3, \n",
    "        operator.mul)))\n",
    "    \n",
    "    execute(program)\n",
    "    \n",
    "```"
   ]
  },
  {
   "cell_type": "markdown",
   "metadata": {},
   "source": [
    "### The for...else Construct"
   ]
  },
  {
   "cell_type": "markdown",
   "metadata": {},
   "source": [
    "```python \n",
    "for item in iterable:\n",
    "    if match(item):\n",
    "        result = item\n",
    "        break\n",
    "else: # nobreak\n",
    "    # No match found\n",
    "    result = None\n",
    "# Always come here\n",
    "print(result)\n",
    "```"
   ]
  },
  {
   "cell_type": "raw",
   "metadata": {},
   "source": [
    "Using for...else in practice:\n",
    "    Ensuring a list contains at list one integer divisible by a value.\n",
    "    Are any of these numbers divisible by 12?\n",
    "    [2, 5, 9, 37, 28, 14]\n",
    "    No so append a number that is \n",
    "    [2, 5, 9, 37, 28, 14, 12]"
   ]
  },
  {
   "cell_type": "code",
   "execution_count": 9,
   "metadata": {},
   "outputs": [
    {
     "name": "stdout",
     "output_type": "stream",
     "text": [
      "[2, 5, 9, 37, 28, 14, 12] contains 12 which is a multiple of 12\n"
     ]
    }
   ],
   "source": [
    "items = [2, 5, 9, 37, 28, 14, 12]\n",
    "divisor = 12\n",
    "for item in items:\n",
    "    if item % divisor == 0:\n",
    "        found = item\n",
    "        break\n",
    "else: #nobreak\n",
    "    items.append(divisor)\n",
    "    found = divisor\n",
    "    \n",
    "print(\"{items} contains {found} which is a multiple of {divisor}\".format(**locals()))\n",
    "        "
   ]
  },
  {
   "cell_type": "markdown",
   "metadata": {},
   "source": [
    "<b>Uncommon</b><br/>\n",
    "Although for-else more common than while-else<br/>\n",
    "<b>Consider relationship</b><br/>\n",
    "Are you sure code maintainers understands<br/>\n",
    "<b>Even experts are confused</b><br/>\n",
    "A majority interviewed at PyCorn 2011 could not properly understand loop-else clause<br/>\n"
   ]
  },
  {
   "cell_type": "markdown",
   "metadata": {},
   "source": [
    "### Alternative to loop-else clause"
   ]
  },
  {
   "cell_type": "markdown",
   "metadata": {},
   "source": [
    "by extracting the loop into a named function"
   ]
  },
  {
   "cell_type": "code",
   "execution_count": 11,
   "metadata": {},
   "outputs": [
    {
     "name": "stdout",
     "output_type": "stream",
     "text": [
      "[2, 5, 9, 37, 28, 14, 12, 12] contains None which is a multiple of 12\n"
     ]
    }
   ],
   "source": [
    "def ensure_has_divisible(items, divisor):\n",
    "    for item in items:\n",
    "        if item % divisor == 0:\n",
    "            found = item\n",
    "            break\n",
    "    items.append(divisor)\n",
    "    found = divisor\n",
    "    \n",
    "items = [2, 5, 9, 37, 28, 14, 12]\n",
    "divisor = 12\n",
    "\n",
    "dividend = ensure_has_divisible(items, divisor)\n",
    "print(\"{items} contains {dividend} which is a multiple of {divisor}\".format(**locals()))\n",
    "    "
   ]
  },
  {
   "cell_type": "markdown",
   "metadata": {},
   "source": [
    "### The try...else Construct"
   ]
  },
  {
   "cell_type": "markdown",
   "metadata": {},
   "source": [
    "```python\n",
    "try:\n",
    "    # this code may some exception\n",
    "    do_something()\n",
    "except ValueError:\n",
    "    # ValueError caught and handeled\n",
    "    handel_value_error()\n",
    "else:\n",
    "    # No exception was raised\n",
    "    # We know that do_something() succeseeded, so\n",
    "    do_something()\n",
    "```\n",
    "    "
   ]
  },
  {
   "cell_type": "markdown",
   "metadata": {},
   "source": [
    "### Emulating Switch Statements"
   ]
  },
  {
   "cell_type": "markdown",
   "metadata": {},
   "source": [
    "Option 1:\n",
    "if...elif...elif...elif...else in python. There is no switch statements in python.\n",
    "\n",
    "Option 2: Mapping of callable\n",
    "\n",
    "Refactor adventure game to option 1 to option 2"
   ]
  },
  {
   "cell_type": "code",
   "execution_count": null,
   "metadata": {},
   "outputs": [],
   "source": [
    "def play():\n",
    "    position = (0,0)\n",
    "    alive = True\n",
    "    \n",
    "    while position:\n",
    "        if position == (0, 0):\n",
    "            print(\"You are in a mazeof twisty passage, all alike.\")\n",
    "        elif position == (1, 0):\n",
    "            print(\"You on a road in a dark forest. To the north you can see a tower.\")\n",
    "        elif position == (1, 1):\n",
    "            print(\"There is a tall tower here, with no obvious door. A path leads east.\")\n",
    "        else:\n",
    "            print(\"There is nothing here.\")\n",
    "            \n",
    "        command = input()\n",
    "        i,j = position\n",
    "        \n",
    "        if command == \"N\":\n",
    "            position = (i, j+1)\n",
    "        elif command == \"E\":\n",
    "            position = (i+1, j)\n",
    "        elif command == \"S\":\n",
    "            position = (i, j-1)\n",
    "        elif command == \"W\":\n",
    "            position = (i-1, j)\n",
    "        elif command == \"Q\":\n",
    "            position = None\n",
    "        else:\n",
    "            print(\"I don't understand.\")\n",
    "    print(\"Game Over!\")\n",
    "    \n",
    "if __name__ == '__main__':\n",
    "    play()\n"
   ]
  },
  {
   "cell_type": "code",
   "execution_count": null,
   "metadata": {},
   "outputs": [],
   "source": [
    "def go_north(position):\n",
    "    i,j = position\n",
    "    new_position = (i, j+1)\n",
    "    return new_position\n",
    "\n",
    "def go_east(position):\n",
    "    i,j = position\n",
    "    new_position = (i+1, j)\n",
    "    return new_position\n",
    "\n",
    "def go_south(position):\n",
    "    i,j = position\n",
    "    new_position = (i, j-1)\n",
    "    return new_position\n",
    "\n",
    "def go_west(position):\n",
    "    i,j = position\n",
    "    new_position = (i-1, j)\n",
    "    return new_position\n",
    "\n",
    "def look(position):\n",
    "    return position\n",
    "\n",
    "def quit(position):\n",
    "    return None\n",
    "\n",
    "def labyrinth(position, alive):\n",
    "    print(\"You are in a mazeof twisty passage, all alike.\")\n",
    "    return position, alive\n",
    "\n",
    "def dark_forest_road(position, alive):\n",
    "    print(\"You on a road in a dark forest. To the north you can see a tower.\")\n",
    "    return position, alive\n",
    "\n",
    "def tall_tower(position, alive):\n",
    "    print(\"There is a tall tower here, with no obvious door. A path leads east.\")\n",
    "    return position, alive\n",
    "\n",
    "def rabit_hole(position, alive):\n",
    "    print(\"You fall down a rabbit hole into a labyrinth.\")\n",
    "    return (0, 0), alive\n",
    "\n",
    "def lava_pit(position, alive):\n",
    "    print(\"You fall into a lava pit.\")\n",
    "    return position, False\n",
    "    \n",
    "def play():\n",
    "    position = (0,0)\n",
    "    alive = True\n",
    "    \n",
    "    while position:\n",
    "#         locations = {\n",
    "#             (0, 0): lambda: print(\"You are in a mazeof twisty passage, all alike.\")\n",
    "#             (1, 0): lambda: print(\"You on a road in a dark forest. To the north you can see a tower.\")\n",
    "#             (1, 1): lambda: print(\"There is a tall tower here, with no obvious door. A path leads east.\")\n",
    "#         }\n",
    "        locations = {\n",
    "            (0, 0): labyrinth,\n",
    "            (1, 0): dark_forest_road,\n",
    "            (1, 1): tall_tower,\n",
    "            (2, 1): rabbit_hole,\n",
    "            (1, 2): lava_pit\n",
    "        }\n",
    "        \n",
    "        try:\n",
    "            location_action = locations[position]\n",
    "        except KeyError:\n",
    "            print(\"There is nothing here.\")\n",
    "        else: \n",
    "            location_action()\n",
    "            \n",
    "        if not alive:\n",
    "            print(\"You're dead!\")\n",
    "            break\n",
    "            \n",
    "        command = input()\n",
    "        \n",
    "        action = {\n",
    "            'N': go_north()\n",
    "            'E': go_east()\n",
    "            'S': go_south()\n",
    "            'W': go_west()\n",
    "            'L': look()\n",
    "            'Q': quit()\n",
    "        }\n",
    "        \n",
    "        try:\n",
    "            command_action = actions[command]\n",
    "        except KeyError:\n",
    "            print(\"I don't understand.\")\n",
    "        else:\n",
    "            position = command_action(position)\n",
    "    else: # nobreak\n",
    "        print(\"You have choosen to leave the game\")\n",
    "    print(\"Game over!\")\n",
    "    \n",
    "if __name__ == '__main__':\n",
    "    play()"
   ]
  },
  {
   "cell_type": "markdown",
   "metadata": {},
   "source": [
    "### Dispatching on Type"
   ]
  },
  {
   "cell_type": "markdown",
   "metadata": {},
   "source": [
    "To dispatch on type\n",
    "- Function selected based on type of argument.\n",
    "- Methods: called implementation depends on type of self\n",
    "- Regular functions: switch-emulation is ungainly\n",
    "- Use the @singledispatch decorator"
   ]
  },
  {
   "cell_type": "code",
   "execution_count": null,
   "metadata": {},
   "outputs": [],
   "source": []
  }
 ],
 "metadata": {
  "kernelspec": {
   "display_name": "Python 2",
   "language": "python",
   "name": "python2"
  },
  "language_info": {
   "codemirror_mode": {
    "name": "ipython",
    "version": 2
   },
   "file_extension": ".py",
   "mimetype": "text/x-python",
   "name": "python",
   "nbconvert_exporter": "python",
   "pygments_lexer": "ipython2",
   "version": "2.7.15rc1"
  }
 },
 "nbformat": 4,
 "nbformat_minor": 1
}
