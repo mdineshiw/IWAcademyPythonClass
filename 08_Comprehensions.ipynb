{
 "cells": [
  {
   "cell_type": "markdown",
   "metadata": {},
   "source": [
    "# Comprehension"
   ]
  },
  {
   "cell_type": "markdown",
   "metadata": {},
   "source": [
    "# What is it?"
   ]
  },
  {
   "cell_type": "markdown",
   "metadata": {},
   "source": [
    "* Nothing but the short form of for loop\n",
    "* Can include if-else as well\n",
    "* concise syntax\n",
    "* little difficult to understand at first sight\n",
    "* easy and readable way to generate data structures (list, tuples, dict)"
   ]
  },
  {
   "cell_type": "markdown",
   "metadata": {},
   "source": [
    "Syntax of List Comprehension:\n",
    "```python\n",
    "[expression for item in list]\n",
    "```"
   ]
  },
  {
   "cell_type": "markdown",
   "metadata": {},
   "source": [
    "## Let's look at examples"
   ]
  },
  {
   "cell_type": "markdown",
   "metadata": {},
   "source": [
    "** By using for loop **"
   ]
  },
  {
   "cell_type": "code",
   "execution_count": 4,
   "metadata": {},
   "outputs": [
    {
     "name": "stdout",
     "output_type": "stream",
     "text": [
      "['h', 'u', 'm', 'a', 'n']\n"
     ]
    }
   ],
   "source": [
    "h_letters = []\n",
    "\n",
    "for letter in 'human':\n",
    "    h_letters.append(letter)\n",
    "\n",
    "print(h_letters)"
   ]
  },
  {
   "cell_type": "markdown",
   "metadata": {},
   "source": [
    "** By using comprehensions **"
   ]
  },
  {
   "cell_type": "code",
   "execution_count": 6,
   "metadata": {},
   "outputs": [
    {
     "name": "stdout",
     "output_type": "stream",
     "text": [
      "['h', 'u', 'm', 'a', 'n']\n"
     ]
    }
   ],
   "source": [
    "h_letters = [ letter for letter in 'human' ]\n",
    "print( h_letters)"
   ]
  },
  {
   "cell_type": "markdown",
   "metadata": {},
   "source": [
    "Using Lambda functions inside List"
   ]
  },
  {
   "cell_type": "code",
   "execution_count": 9,
   "metadata": {},
   "outputs": [
    {
     "name": "stdout",
     "output_type": "stream",
     "text": [
      "['h', 'u', 'm', 'a', 'n']\n"
     ]
    }
   ],
   "source": [
    "letters = list(map(lambda x: x, 'human'))\n",
    "print(letters)"
   ]
  },
  {
   "cell_type": "code",
   "execution_count": 2,
   "metadata": {},
   "outputs": [
    {
     "name": "stdout",
     "output_type": "stream",
     "text": [
      "[0, 1, 2, 3, 4, 5, 6, 7, 8, 9]\n"
     ]
    }
   ],
   "source": [
    "my_list = list(range(0,10))\n",
    "print(my_list)"
   ]
  },
  {
   "cell_type": "markdown",
   "metadata": {},
   "source": [
    "** I want to duplicate the my_list by iterating list values one by one ** \n"
   ]
  },
  {
   "cell_type": "code",
   "execution_count": 10,
   "metadata": {},
   "outputs": [
    {
     "name": "stdout",
     "output_type": "stream",
     "text": [
      "('my_list = ', [0, 1, 2, 3, 4, 5, 6, 7, 8, 9])\n",
      "False\n",
      "('my_copy = ', [0, 1, 2, 3, 4, 5, 6, 7, 8, 9])\n",
      "('is my_copy == my_list ?', True)\n"
     ]
    }
   ],
   "source": [
    "my_list = list(range(0,10))\n",
    "print(\"my_list = \", my_list)\n",
    "my_copy = []\n",
    "for n in my_list:\n",
    "    my_copy.append(n)\n",
    "\n",
    "print(my_list is my_copy)\n",
    "print(\"my_copy = \", my_copy)\n",
    "print(\"is my_copy == my_list ?\", my_copy == my_list)"
   ]
  },
  {
   "cell_type": "markdown",
   "metadata": {},
   "source": [
    "** By using comprehensions ** "
   ]
  },
  {
   "cell_type": "code",
   "execution_count": 11,
   "metadata": {},
   "outputs": [
    {
     "name": "stdout",
     "output_type": "stream",
     "text": [
      "('my_list = ', [0, 1, 2, 3, 4, 5, 6, 7, 8, 9])\n",
      "('my_copy = ', [0, 1, 2, 3, 4, 5, 6, 7, 8, 9])\n",
      "('is my_copy == my_list ?', True)\n"
     ]
    }
   ],
   "source": [
    "my_list = list(range(0,10))\n",
    "print(\"my_list = \", my_list)\n",
    "\n",
    "my_copy = [n for n in my_list] # Comprehension\n",
    "\n",
    "print(\"my_copy = \", my_copy)\n",
    "print(\"is my_copy == my_list ?\", my_copy == my_list)"
   ]
  },
  {
   "cell_type": "markdown",
   "metadata": {},
   "source": [
    "** How about squared values? **"
   ]
  },
  {
   "cell_type": "code",
   "execution_count": 12,
   "metadata": {},
   "outputs": [
    {
     "name": "stdout",
     "output_type": "stream",
     "text": [
      "('my_list = ', [0, 1, 2, 3, 4, 5, 6, 7, 8, 9])\n",
      "('my_squared = ', [0, 1, 4, 9, 16, 25, 36, 49, 64, 81])\n"
     ]
    }
   ],
   "source": [
    "my_list = list(range(0,10))\n",
    "print(\"my_list = \", my_list)\n",
    "\n",
    "my_squared = [n*n for n in my_list] # Comprehension\n",
    "\n",
    "print(\"my_squared = \", my_squared)"
   ]
  },
  {
   "cell_type": "markdown",
   "metadata": {},
   "source": [
    "## Using map + lambda"
   ]
  },
  {
   "cell_type": "code",
   "execution_count": 13,
   "metadata": {},
   "outputs": [
    {
     "data": {
      "text/plain": [
       "[0, 1, 4, 9, 16, 25, 36, 49, 64, 81]"
      ]
     },
     "execution_count": 13,
     "metadata": {},
     "output_type": "execute_result"
    }
   ],
   "source": [
    "nums = list(range(0,10))\n",
    "my_list = map(lambda n: n*n, nums)\n",
    "list(my_list)"
   ]
  },
  {
   "cell_type": "markdown",
   "metadata": {},
   "source": [
    "<img src=\"images/2188b5.jpg\" height=\"300px\" width=\"300px\">"
   ]
  },
  {
   "cell_type": "markdown",
   "metadata": {},
   "source": [
    "## What are map, reduce, filter and lambda in Python?\n",
    "***(hold the thought for Comprehensions for now. We'll get back to it later. )***"
   ]
  },
  {
   "cell_type": "markdown",
   "metadata": {},
   "source": [
    "# Let's get back to comprehensions"
   ]
  },
  {
   "cell_type": "markdown",
   "metadata": {},
   "source": [
    "Conditionals in List Comprehension"
   ]
  },
  {
   "cell_type": "code",
   "execution_count": 14,
   "metadata": {},
   "outputs": [
    {
     "name": "stdout",
     "output_type": "stream",
     "text": [
      "[0, 2, 4, 6, 8]\n"
     ]
    }
   ],
   "source": [
    "# extraction of the even numbers in the list\n",
    "nums = list(range(10))\n",
    "new_list = []\n",
    "for n in nums:\n",
    "    if n%2 == 0:\n",
    "        new_list.append(n)\n",
    "print(new_list)"
   ]
  },
  {
   "cell_type": "code",
   "execution_count": 2,
   "metadata": {},
   "outputs": [
    {
     "name": "stdout",
     "output_type": "stream",
     "text": [
      "[0, 2, 4, 6, 8, 10, 12, 14]\n"
     ]
    }
   ],
   "source": [
    "# by list comprehensions\n",
    "nums = list(range(15))\n",
    "new_list = [n for n in nums if n%2 == 0]\n",
    "print(new_list)"
   ]
  },
  {
   "cell_type": "markdown",
   "metadata": {},
   "source": [
    "## ** get (index, letter) pair for each letter in \"abcde\" **"
   ]
  },
  {
   "cell_type": "code",
   "execution_count": 1,
   "metadata": {
    "scrolled": true
   },
   "outputs": [
    {
     "data": {
      "text/plain": [
       "[(0, 5), (1, 10), (2, 15), (3, 20), (4, 25)]"
      ]
     },
     "execution_count": 1,
     "metadata": {},
     "output_type": "execute_result"
    }
   ],
   "source": [
    "nums = [5, 10, 15, 20, 25]\n",
    "my_list = []\n",
    "for val in enumerate(nums):\n",
    "    my_list.append(val)\n",
    "my_list"
   ]
  },
  {
   "cell_type": "code",
   "execution_count": 16,
   "metadata": {},
   "outputs": [
    {
     "data": {
      "text/plain": [
       "[(0, 5), (1, 10), (2, 15), (3, 20), (4, 25)]"
      ]
     },
     "execution_count": 16,
     "metadata": {},
     "output_type": "execute_result"
    }
   ],
   "source": [
    "nums = [5, 10, 15, 20, 25]\n",
    "my_list = [val for val in enumerate(nums)]\n",
    "my_list"
   ]
  },
  {
   "cell_type": "code",
   "execution_count": 17,
   "metadata": {},
   "outputs": [
    {
     "name": "stdout",
     "output_type": "stream",
     "text": [
      "[('a', 0), ('a', 1), ('a', 2), ('b', 0), ('b', 1), ('b', 2), ('c', 0), ('c', 1), ('c', 2)]\n"
     ]
    }
   ],
   "source": [
    "# get all pairs\n",
    "my_str = \"abc\"\n",
    "my_list = []\n",
    "for letter in my_str:\n",
    "    for index in range(len(my_str)):\n",
    "        my_list.append((letter, index))\n",
    "print(my_list)"
   ]
  },
  {
   "cell_type": "code",
   "execution_count": 18,
   "metadata": {
    "scrolled": true
   },
   "outputs": [
    {
     "data": {
      "text/plain": [
       "[('a', 0),\n",
       " ('a', 1),\n",
       " ('a', 2),\n",
       " ('b', 0),\n",
       " ('b', 1),\n",
       " ('b', 2),\n",
       " ('c', 0),\n",
       " ('c', 1),\n",
       " ('c', 2)]"
      ]
     },
     "execution_count": 18,
     "metadata": {},
     "output_type": "execute_result"
    }
   ],
   "source": [
    "my_str = \"abc\"\n",
    "my_list = [(letter, index) for letter in my_str for index in range(len(my_str))]\n",
    "my_list"
   ]
  },
  {
   "cell_type": "markdown",
   "metadata": {},
   "source": [
    "##  dictionary comprehensions\n",
    "- join two list of key:value pairs\n",
    "- we use zip function"
   ]
  },
  {
   "cell_type": "code",
   "execution_count": 19,
   "metadata": {},
   "outputs": [
    {
     "name": "stdout",
     "output_type": "stream",
     "text": [
      "[('a', 1), ('b', 2), ('c', 3)]\n"
     ]
    }
   ],
   "source": [
    "#print(list(zip([\"a\", \"b\", \"c\"], [1, 2, 3])))\n",
    "# print(list(zip([\"a\", \"b\", \"c\"], [1, 2, 3, 4])))\n",
    "print(list(zip([\"a\", \"b\", \"c\", \"d\"], [1, 2, 3])))"
   ]
  },
  {
   "cell_type": "code",
   "execution_count": 20,
   "metadata": {},
   "outputs": [
    {
     "name": "stdout",
     "output_type": "stream",
     "text": [
      "{'Python': 'Guido Van Rossum', 'C': 'Denis Ritchi', 'Java': 'James Gosling'}\n"
     ]
    }
   ],
   "source": [
    "lang = [\"Python\", \"Java\", \"C\"]\n",
    "creator = [\"Guido Van Rossum\", \"James Gosling\", \"Denis Ritchi\"]\n",
    "\n",
    "my_dictionary = {}\n",
    "for key, val in zip(lang, creator):\n",
    "    my_dictionary[key]=val\n",
    "print(my_dictionary)"
   ]
  },
  {
   "cell_type": "code",
   "execution_count": 21,
   "metadata": {
    "scrolled": true
   },
   "outputs": [
    {
     "name": "stdout",
     "output_type": "stream",
     "text": [
      "{'Python': 'Guido Van Rossum', 'C': 'Denis Ritchi', 'Java': 'James Gosling'}\n"
     ]
    }
   ],
   "source": [
    "lang = [\"Python\", \"Java\", \"C\"]\n",
    "creator = [\"Guido Van Rossum\", \"James Gosling\", \"Denis Ritchi\"]\n",
    "\n",
    "my_dict = {key:val for key, val in zip(lang, creator)} # Comprehensions\n",
    "print(my_dict)"
   ]
  },
  {
   "cell_type": "code",
   "execution_count": 22,
   "metadata": {},
   "outputs": [
    {
     "name": "stdout",
     "output_type": "stream",
     "text": [
      "{'Python': 'Guido Van Rossum', 'C': 'Denis Ritchi', 'Java': 'James Gosling'}\n"
     ]
    }
   ],
   "source": [
    "lang = [\"Python\", \"Java\", \"C\", \"linux\"]\n",
    "creator = [\"Guido Van Rossum\", \"James Gosling\", \"Denis Ritchi\", \"Linus Torvalds\"]\n",
    "\n",
    "my_dictionary = {}\n",
    "for key, val in zip(lang, creator):\n",
    "    if key != \"linux\":\n",
    "        my_dictionary[key]=val\n",
    "print(my_dictionary)"
   ]
  },
  {
   "cell_type": "code",
   "execution_count": 23,
   "metadata": {},
   "outputs": [
    {
     "name": "stdout",
     "output_type": "stream",
     "text": [
      "{'Python': 'Guido Van Rossum', 'C': 'Denis Ritchi', 'Java': 'James Gosling', 'linux': 'Linus Torvalds'}\n",
      "{'Python': 'Guido Van Rossum', 'C': 'Denis Ritchi', 'Java': 'James Gosling'}\n"
     ]
    }
   ],
   "source": [
    "lang = [\"Python\", \"Java\", \"C\", \"linux\"]\n",
    "creator = [\"Guido Van Rossum\", \"James Gosling\", \"Denis Ritchi\", \"Linus Torvalds\"]\n",
    "\n",
    "my_dict = {key:val for key, val in zip(lang, creator)}\n",
    "print(my_dict)\n",
    "\n",
    "\n",
    "my_dictionary = {key:val for key, val in zip(lang, creator) if key != \"linux\"}\n",
    "print(my_dictionary)"
   ]
  },
  {
   "cell_type": "markdown",
   "metadata": {},
   "source": [
    "# set comprehension"
   ]
  },
  {
   "cell_type": "code",
   "execution_count": 24,
   "metadata": {},
   "outputs": [
    {
     "data": {
      "text/plain": [
       "{1, 4, 9, 16, 25}"
      ]
     },
     "execution_count": 24,
     "metadata": {},
     "output_type": "execute_result"
    }
   ],
   "source": [
    "nums = [1, 2, 3, 4, 5, 5]\n",
    "my_set = {val*val for val in nums}\n",
    "my_set"
   ]
  },
  {
   "cell_type": "markdown",
   "metadata": {},
   "source": [
    "# how about tuples?"
   ]
  },
  {
   "cell_type": "code",
   "execution_count": 25,
   "metadata": {},
   "outputs": [
    {
     "name": "stdout",
     "output_type": "stream",
     "text": [
      "<type 'tuple'>\n",
      "<generator object <genexpr> at 0x7fecd0245fa0>\n"
     ]
    }
   ],
   "source": [
    "nums = (1, 2, 3, 4, 5)\n",
    "print(type(nums))\n",
    "my_s_tup = (n*n for n in nums)\n",
    "print(my_s_tup)"
   ]
  }
 ],
 "metadata": {
  "kernelspec": {
   "display_name": "Python 2",
   "language": "python",
   "name": "python2"
  },
  "language_info": {
   "codemirror_mode": {
    "name": "ipython",
    "version": 2
   },
   "file_extension": ".py",
   "mimetype": "text/x-python",
   "name": "python",
   "nbconvert_exporter": "python",
   "pygments_lexer": "ipython2",
   "version": "2.7.15rc1"
  }
 },
 "nbformat": 4,
 "nbformat_minor": 2
}
