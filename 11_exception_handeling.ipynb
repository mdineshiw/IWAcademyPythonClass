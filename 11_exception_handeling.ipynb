{
 "cells": [
  {
   "cell_type": "markdown",
   "metadata": {},
   "source": [
    "\n",
    "# Exception Handling\n"
   ]
  },
  {
   "cell_type": "markdown",
   "metadata": {},
   "source": [
    "- An exception is an error that happens during execution of a program \n",
    "- If an exception is not caught the program is terminated\n",
    "- In Python, exceptions are triggered automatically on errors\n",
    "- Exceptions can be triggered and intercepted by your code "
   ]
  },
  {
   "cell_type": "code",
   "execution_count": null,
   "metadata": {},
   "outputs": [],
   "source": [
    "def divide(num): \n",
    "    print(100/num)\n",
    "try:\n",
    "    divide(100)\n",
    "    fp = open(\"new.txt\", \"r\")\n",
    "except ZeroDivisionError:\n",
    "    print(\"Zero Division not allowed\")\n",
    "except FileNotFoundError:\n",
    "    print(\"File Exception\")\n",
    "except:\n",
    "    print(\"General Exception\")\n",
    "else:\n",
    "    print(\"Success!!!\")\n"
   ]
  },
  {
   "cell_type": "markdown",
   "metadata": {},
   "source": [
    "### Why use exceptions ?\n",
    "- **Error handling** \n",
    "    - Python raises an exception whenever it detects errors in program at runtime. \n",
    "    - You can catch and respond to errors in the code or Python’s default behavior kicks in, stops the program and prints the error message. \n",
    "\n",
    "- **Handling an exception **\n",
    "    - If you have some suspicious code that may raise an exception, you can place the code try: block. \n",
    "    - After the try: block, include an except: statement, followed by a block of code which handles the problem as elegantly as possible."
   ]
  },
  {
   "cell_type": "markdown",
   "metadata": {},
   "source": [
    "## Syntax: try-Except-else \n",
    "```python\n",
    "try:\n",
    "   # You do your operations here;\n",
    "   # ......................\n",
    "except ExceptionI:\n",
    "   # If there is ExceptionI, then execute this block.\n",
    "except ExceptionII:\n",
    "   # If there is ExceptionII, then execute this block.\n",
    "   ......................\n",
    "else: #optional\n",
    "   # If there is no exception then execute this block.\n",
    "```"
   ]
  },
  {
   "cell_type": "code",
   "execution_count": null,
   "metadata": {},
   "outputs": [],
   "source": [
    "8/0"
   ]
  },
  {
   "cell_type": "code",
   "execution_count": null,
   "metadata": {},
   "outputs": [],
   "source": [
    "def divide(num): \n",
    "    print(100/num)\n",
    "\n",
    "try:\n",
    "    divide(5)\n",
    "    divide(0)\n",
    "    fp = open(\"hsdjhd.txt\", \"r\")\n",
    "except ZeroDivisionError as er:\n",
    "    print(er)\n",
    "except:\n",
    "    print(\"dsdsd\")\n",
    "finally:\n",
    "    print(\"Finally\")"
   ]
  },
  {
   "cell_type": "markdown",
   "metadata": {},
   "source": [
    "### The except clause with no Exceptions\n",
    "```python\n",
    "try:\n",
    "    # You do your operations here;\n",
    "    # ......................\n",
    "except:\n",
    "    # If there is any exception, then execute this block.\n",
    "    # ......................\n",
    "else:\n",
    "    # If there is no exception then execute this block. \n",
    "```"
   ]
  },
  {
   "cell_type": "markdown",
   "metadata": {},
   "source": [
    "### Try-finally\n",
    "```python\n",
    "try:\n",
    "    # You do your operations here;\n",
    "    # ......................\n",
    "    # Due to any exception, this may be skipped.\n",
    "finally:\n",
    "    # This would always be executed.\n",
    "    # ......................\n",
    "```"
   ]
  },
  {
   "cell_type": "code",
   "execution_count": null,
   "metadata": {},
   "outputs": [],
   "source": [
    "while True:\n",
    "    try:\n",
    "        n = input(\"Please enter an integer: \")\n",
    "        n = int(n)\n",
    "        break\n",
    "    except ValueError:\n",
    "        print(\"No valid integer! Please try again ...\")\n",
    "print(\"Great, you successfully entered an integer!\")"
   ]
  },
  {
   "cell_type": "code",
   "execution_count": null,
   "metadata": {},
   "outputs": [],
   "source": [
    "import sys\n",
    "\n",
    "try:\n",
    "    f = open('file.txt', 'r')\n",
    "    s = f.readline()\n",
    "    i = int(s.strip())\n",
    "    print(i)\n",
    "except IOError as e:\n",
    "    errno, strerror = e.args\n",
    "    print(\"I/O error({0}): {1}\".format(errno,strerror))\n",
    "    # e can be printed directly without using .args:\n",
    "    # print(e)\n",
    "except ValueError:\n",
    "    print(\"No valid integer in line.\")\n",
    "except:\n",
    "    print(\"Unexpected error:\", sys.exc_info()[0])\n",
    "    raise"
   ]
  },
  {
   "cell_type": "code",
   "execution_count": null,
   "metadata": {},
   "outputs": [],
   "source": [
    "def divide(num):\n",
    "    try:\n",
    "        print(100/num)\n",
    "    except ZeroDivisionError as ze:\n",
    "        print(ze)\n",
    "    finally:\n",
    "        print(\"no matter what I get executed\")\n",
    "\n",
    "divide(2)\n",
    "divide(0) "
   ]
  },
  {
   "cell_type": "code",
   "execution_count": null,
   "metadata": {},
   "outputs": [],
   "source": [
    "def print_hello():\n",
    "    print(\"hello\")\n",
    "def print_world():\n",
    "    print(\"World\")\n",
    "def default():\n",
    "    print(\"Default\")\n",
    "\n",
    "switch = {\n",
    "    \"1\":print_hello,\n",
    "    \"2\":print_world\n",
    "}\n",
    "\n",
    "inp = input(\"Enter choice\")\n",
    "try:\n",
    "    switch[inp]()\n",
    "except:\n",
    "    default()"
   ]
  },
  {
   "cell_type": "markdown",
   "metadata": {},
   "source": [
    "### Python Built-in Exceptions"
   ]
  },
  {
   "cell_type": "markdown",
   "metadata": {},
   "source": [
    "- **AssertionError** Raised when assert statement fails.\n",
    "- **AttributeError** Raised when attribute assignment or reference fails.\n",
    "- **EOFError** Raised when the input() functions hits end-of-file condition.\n",
    "- **FloatingPointError** Raised when a floating point operation fails.\n",
    "- **GeneratorExit** Raise when a generator's close() method is called.\n",
    "- **ImportError** Raised when the imported module is not found.\n",
    "- **IndexError** Raised when index of a sequence is out of range.\n",
    "- **KeyError** Raised when a key is not found in a dictionary.\n",
    "- **KeyboardInterrupt** Raised when the user hits interrupt key (Ctrl+c or delete).\n",
    "- **MemoryError** Raised when an operation runs out of memory.\n",
    "- **NameError** Raised when a variable is not found in local or global scope.\n",
    "- **NotImplementedError** Raised by abstract methods\n",
    "- **OSError** Raised when system operation causes system related error.\n",
    "- **OverflowError** Raised when result of an arithmetic operation is too large to be represented.\n",
    "- **ReferenceError** Raised when a weak reference proxy is used to access a garbage collected referent.\n",
    "- **RuntimeError** Raised when an error does not fall under any other category.\n",
    "- **StopIteration** Raised by next() function to indicate that there is no further item to be returned by iterator.\n",
    "- **SyntaxError** Raised by parser when syntax error is encountered.\n",
    "- **IndentationError** Raised when there is incorrect indentation.\n",
    "- **TabError** Raised when indentation consists of inconsistent tabs and spaces.\n",
    "- **SystemError** Raised when interpreter detects internal error.\n",
    "- **SystemExit** Raised by sys.exit() function.\n",
    "- **TypeError** Raised when a function or operation is applied to an object of incorrect type.\n",
    "- **UnboundLocalError** Raised when a reference is made to a local variable in a function or method, but no value has been bound to that variable.\n",
    "- **UnicodeError** Raised when a Unicode-related encoding or decoding error occurs.\n",
    "- **UnicodeEncodeError** Raised when a Unicode-related error occurs during encoding.\n",
    "- **UnicodeDecodeError** Raised when a Unicode-related error occurs during decoding.\n",
    "- **UnicodeTranslateError** Raised when a Unicode-related error occurs during translating.\n",
    "- **ValueError** Raised when a function gets argument of correct type but improper value.\n",
    "- **ZeroDivisionError** Raised when second operand of division or modulo operation is zero."
   ]
  },
  {
   "cell_type": "markdown",
   "metadata": {},
   "source": [
    "### User-Defined Exception in Python"
   ]
  },
  {
   "cell_type": "markdown",
   "metadata": {},
   "source": [
    "User-defined exceptions can be used in a program to raise and catch errors."
   ]
  },
  {
   "cell_type": "code",
   "execution_count": null,
   "metadata": {},
   "outputs": [
    {
     "name": "stdout",
     "output_type": "stream",
     "text": [
      "Enter a number: 1\n",
      "This value is too small, try again!\n",
      "()\n"
     ]
    }
   ],
   "source": [
    "# define Python user-defined exceptions\n",
    "class Error(Exception):\n",
    "   \"\"\"Base class for other exceptions\"\"\"\n",
    "   pass\n",
    "\n",
    "class ValueTooSmallError(Error):\n",
    "   \"\"\"Raised when the input value is too small\"\"\"\n",
    "   pass\n",
    "\n",
    "class ValueTooLargeError(Error):\n",
    "   \"\"\"Raised when the input value is too large\"\"\"\n",
    "   pass\n",
    "\n",
    "# our main program\n",
    "# user guesses a number until he/she gets it right\n",
    "\n",
    "# you need to guess this number\n",
    "number = 10\n",
    "\n",
    "while True:\n",
    "   try:\n",
    "       i_num = int(input(\"Enter a number: \"))\n",
    "       if i_num < number:\n",
    "           raise ValueTooSmallError\n",
    "       elif i_num > number:\n",
    "           raise ValueTooLargeError\n",
    "       break\n",
    "   except ValueTooSmallError:\n",
    "       print(\"This value is too small, try again!\")\n",
    "       print()\n",
    "   except ValueTooLargeError:\n",
    "       print(\"This value is too large, try again!\")\n",
    "       print()\n",
    "\n",
    "print(\"Congratulations! You guessed it correctly.\")"
   ]
  },
  {
   "cell_type": "code",
   "execution_count": null,
   "metadata": {},
   "outputs": [],
   "source": []
  }
 ],
 "metadata": {
  "kernelspec": {
   "display_name": "Python 2",
   "language": "python",
   "name": "python2"
  },
  "language_info": {
   "codemirror_mode": {
    "name": "ipython",
    "version": 2
   },
   "file_extension": ".py",
   "mimetype": "text/x-python",
   "name": "python",
   "nbconvert_exporter": "python",
   "pygments_lexer": "ipython2",
   "version": "2.7.15rc1"
  }
 },
 "nbformat": 4,
 "nbformat_minor": 1
}
