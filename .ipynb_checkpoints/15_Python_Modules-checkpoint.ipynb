{
 "cells": [
  {
   "cell_type": "markdown",
   "metadata": {},
   "source": [
    "The **re** module for Regular Expression:\n",
    "\n",
    "Steps to using re in Python:\n",
    "- `import re`.\n",
    "- Create a Regex object with the re.compile() function. (Remember to use a raw string.)\n",
    "- Pass the search string to regex object's `search()` method.\n",
    "- Call the Match object's `group()` method to return a string of the actual matched text.\n"
   ]
  },
  {
   "cell_type": "markdown",
   "metadata": {},
   "source": [
    "Best Video to know more about the REGEX itself: https://www.youtube.com/embed/sa-TUpSx1JA\n",
    "\n",
    "---\n",
    "\n",
    "\\d - Any numeric digit from 0 to 9.\n",
    "\n",
    "\\D - Any character that is not a numeric digit from 0 to 9.\n",
    "\n",
    "\\w - Any letter, numeric digit, or the underscore character. (Think of this as matching “word” characters.)\n",
    "\n",
    "\\W - Any character that is not a letter, numeric digit, or the underscore character.\n",
    "\n",
    "\\s - Any space, tab, or newline character. (Think of this as matching “space” characters.)\n",
    "\n",
    "\\S - Any character that is not a space, tab, or newline."
   ]
  },
  {
   "cell_type": "code",
   "execution_count": null,
   "metadata": {},
   "outputs": [],
   "source": [
    "import re\n",
    "\n",
    "my_str = \"Many Cats are smarter than dogs My. 45 Aren't they?\"\n",
    "reg_obj = re.compile(r'are')\n",
    "matchObj = reg_obj.search(my_str)\n",
    "\n",
    "if matchObj:\n",
    "    print(\"matchObj.group() : \", matchObj.group()) # returns entire match\n",
    "else:\n",
    "    print(\"No match!!\")"
   ]
  },
  {
   "cell_type": "markdown",
   "metadata": {},
   "source": [
    "## random module"
   ]
  },
  {
   "cell_type": "code",
   "execution_count": null,
   "metadata": {},
   "outputs": [],
   "source": [
    "# import random\n",
    "\n",
    "# print(random.random())\n",
    "# print(random.randint(1, 1000)) # includes endpoint\n",
    "# print(random.randrange(1, 5)) # dont include endpoint\n",
    "\n",
    "# l = [1, 2, 3, 5, 6, 3, 2, 123]\n",
    "# print(random.choice(l)) #like a lottery\n",
    "# sample = random.sample(list(range(1, 1000)), 50)\n",
    "# print(sample)\n",
    "\n",
    "# my_l = list(range(1, 53))\n",
    "# print(my_l)\n",
    "# random.shuffle(my_l)\n",
    "# print(my_l)"
   ]
  },
  {
   "cell_type": "markdown",
   "metadata": {},
   "source": [
    "## Datetime"
   ]
  },
  {
   "cell_type": "code",
   "execution_count": null,
   "metadata": {},
   "outputs": [],
   "source": [
    "from datetime import date\n",
    "from datetime import time\n",
    "from datetime import datetime\n",
    "\n",
    "# Get today's date from the simple today() method from the date class\n",
    "today = date.today()\n",
    "print(\"Today's date is \", today)\n",
    "\n",
    "# print out the date's individual components\n",
    "print (\"Date Components: \", today.day, today.month, today.year)\n",
    "  \n",
    "# retrieve today's weekday (0=Monday, 6=Sunday)\n",
    "print(\"Today's Weekday #: \", today.weekday())"
   ]
  },
  {
   "cell_type": "code",
   "execution_count": null,
   "metadata": {},
   "outputs": [],
   "source": [
    "## DATETIME OBJECTS\n",
    "# Get today's date from the datetime class\n",
    "# today = datetime.now()\n",
    "# print(\"The current date and time is \", today)\n",
    "  \n",
    "# Get the current time\n",
    "# t = datetime.time(datetime.now())\n",
    "# print (\"The current time is \", t)\n",
    "  \n",
    "# weekday returns 0 (monday) through 6 (sunday)\n",
    "wd = date.weekday(today)  \n",
    "\n",
    "# # Days start at 0 for Monday \n",
    "days = [\"monday\",\"tuesday\",\"wednesday\",\"thursday\",\"friday\",\"saturday\",\"sunday\"]\n",
    "print (\"Today is day number {}\".format(wd))\n",
    "print (\"Which is a \" + days[wd])"
   ]
  },
  {
   "cell_type": "code",
   "execution_count": null,
   "metadata": {},
   "outputs": [],
   "source": [
    "from datetime import datetime\n",
    "\n",
    "# Times and dates can be formatted using a set of predefined string\n",
    "# control codes \n",
    "now = datetime.now() # get the current date and time\n",
    "\n",
    "#### Date Formatting ####\n",
    "  \n",
    "# %y/%Y - Year, %a/%A - weekday, %b/%B - month, %d - day of month\n",
    "print(now.strftime(\"%y\")) # full year with century\n",
    "print(now.strftime(\"%a, %d %B, %y\"))# abbreviated day, num, full month, abbreviated year"
   ]
  },
  {
   "cell_type": "code",
   "execution_count": null,
   "metadata": {},
   "outputs": [],
   "source": [
    "# %c - locale's date and time, %x - locale's date, %X - locale's time\n",
    "print (now.strftime(\"%c\"))\n",
    "print (now.strftime(\"%x\"))\n",
    "print (now.strftime(\"%X\"))\n",
    "  \n",
    "#### Time Formatting ####\n",
    "\n",
    "# %I/%H - 12/24 Hour, %M - minute, %S - second, %p - locale's AM/PM\n",
    "print (now.strftime(\"%H:%M:%S %p\")) # 12-Hour:Minute:Second:AM"
   ]
  },
  {
   "cell_type": "code",
   "execution_count": null,
   "metadata": {
    "scrolled": true
   },
   "outputs": [],
   "source": [
    "import calendar\n",
    "\n",
    "# create a plain text calendar\n",
    "c = calendar.TextCalendar(calendar.MONDAY)\n",
    "cal = c.formatmonth(2017, 1)\n",
    "print(cal)\n",
    "\n",
    "#create an HTML formatted calendar\n",
    "hc = calendar.HTMLCalendar(calendar.SUNDAY)\n",
    "cal = hc.formatmonth(2013, 1)\n",
    "print(cal)"
   ]
  },
  {
   "cell_type": "markdown",
   "metadata": {},
   "source": [
    "# The OS module"
   ]
  },
  {
   "cell_type": "code",
   "execution_count": null,
   "metadata": {
    "scrolled": true
   },
   "outputs": [],
   "source": [
    "import os\n",
    "from os import path\n",
    "import datetime\n",
    "from datetime import date, time, timedelta\n",
    "import time\n",
    "\n",
    "# print(os.path.exists(\"textfile.txt\"))\n",
    "# print(os.path.isfile(\"textfile.txt\"))\n",
    "# print(os.path.isdir(\"textfile.txt\"))\n",
    "\n",
    "print(os.getcwd())\n",
    "# os.mkdir(\"XYZ\")\n",
    "# print(os.path.isdir(\"XYZ\"))\n",
    "# print(os.listdir())\n",
    "# \"XYZ\" in os.listdir()\n",
    "# print(os.chdir(os.path.join(\"/home\", \"linuxsagar\")))\n",
    "# print(os.getcwd())\n",
    "\n",
    "for dire, _, files in os.walk('/home/linuxsagar/Pictures/Wallpapers/'):\n",
    "    for each in files:\n",
    "        print(each)"
   ]
  },
  {
   "cell_type": "code",
   "execution_count": null,
   "metadata": {},
   "outputs": [],
   "source": [
    "from zipfile import ZipFile\n",
    "\n",
    "with ZipFile(\"testzip.zip\",\"w\") as newzip:\n",
    "    newzip.write(\"README.md\")\n",
    "    newzip.write(\"textfile.txt\")"
   ]
  }
 ],
 "metadata": {
  "kernelspec": {
   "display_name": "Python 2",
   "language": "python",
   "name": "python2"
  },
  "language_info": {
   "codemirror_mode": {
    "name": "ipython",
    "version": 2
   },
   "file_extension": ".py",
   "mimetype": "text/x-python",
   "name": "python",
   "nbconvert_exporter": "python",
   "pygments_lexer": "ipython2",
   "version": "2.7.15rc1"
  }
 },
 "nbformat": 4,
 "nbformat_minor": 1
}
