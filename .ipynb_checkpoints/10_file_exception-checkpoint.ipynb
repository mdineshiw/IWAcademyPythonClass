{
 "cells": [
  {
   "cell_type": "markdown",
   "metadata": {},
   "source": [
    "# File Handling"
   ]
  },
  {
   "cell_type": "markdown",
   "metadata": {},
   "source": [
    "File is a named location on disk to store related information. It is used to permanently store data in a non-volatile memory.\n",
    "In Python, a file operation takes place in the following order.\n",
    "    1. Open a file\n",
    "    2. Read or write (perform operation)\n",
    "    3. Close the file"
   ]
  },
  {
   "cell_type": "markdown",
   "metadata": {},
   "source": [
    "### Writing\n",
    "- Opening a new file\n",
    "```python\n",
    ">>> fp = open(\"new_test.txt\",\"w\")\n",
    ">>> print(fp)\n",
    "<opens file 'test.txt', mode 'w'>\n",
    "```\n",
    "\n",
    "- Writing to it:\n",
    "```python\n",
    ">>> fp.write(\"hello world, again\")\t\n",
    ">>> fp.write(\"... and again\") \n",
    ">>> fp.close()\n",
    "```\n",
    "- Only after calling close() the changes appear in the file for editing elsewhere!"
   ]
  },
  {
   "cell_type": "markdown",
   "metadata": {},
   "source": [
    "### Reading\n",
    "- Opening an existing file\n",
    "```python\n",
    ">>> f = open(\"test.txt\",\"r\")\n",
    ">>> print(f)\n",
    "<open file 'test.txt', mode 'r'>\n",
    "```\n",
    "\n",
    "- Reading it:\n",
    "```python\n",
    ">>> f.read()\n",
    "\"hello world\"\n",
    "```\n",
    "\n",
    "- Closing it:\n",
    "```python\n",
    ">>> f.close()\n",
    ">>> print(f)\n",
    "<closed file 'test.txt', mode 'r'>\n",
    "```"
   ]
  },
  {
   "cell_type": "markdown",
   "metadata": {},
   "source": [
    "### Appending\n",
    "- Opening an existing file\n",
    "```python\n",
    ">>> f = open(\"test.txt\",\"a\")\n",
    ">>> print(f)\n",
    "<open file 'test.txt', mode 'a'>\n",
    "```\n",
    "\n",
    "- Appending to it:\n",
    "```python\n",
    ">>> f.write(\"appending\")\n",
    ">>> f.close()\n",
    "```\n",
    "- In append mode the file pointer is set to the end of the opened file."
   ]
  },
  {
   "cell_type": "markdown",
   "metadata": {},
   "source": [
    "### More about file pointers\n",
    "- **`f.tell()`** gives current position within file f\n",
    "- **`f.seek(pos)`** moves to pos \n",
    "- **`f.seek(offset , from)`** change file pointer position within file f, where\n",
    "    - from = 0 , from beginning of file\n",
    "    - from = 1, from current position\n",
    "    - from = 2, from end of file"
   ]
  },
  {
   "cell_type": "code",
   "execution_count": null,
   "metadata": {},
   "outputs": [],
   "source": [
    "fp = open(\"new.txt\", \"w\")\n",
    "fp.write(\"Hello World\")\n",
    "print(fp.tell())\n",
    "fp.close()"
   ]
  },
  {
   "cell_type": "markdown",
   "metadata": {},
   "source": [
    "## Modes\n",
    "- **r** Open a file for reading. (default)\n",
    "- **w** Open a file for writing. Creates a new file if it does not exist or truncates the file if it exists.\n",
    "- **x** Open a file for exclusive creation. If the file already exists, the operation fails.\n",
    "- **a** Open for appending at the end of the file without truncating it. Creates a new file if it does not exist.\n",
    "- **t** Open in text mode. (default)\n",
    "- **b** Open in binary mode.\n",
    "- **+** Open a file for updating (reading and writing).\n",
    "- **rb+** Opens the file for reading and writing. File pointer will be at the beginning of the file.\n",
    "\n",
    "- **wb+** Opens for reading and writing. Overwrites the existing file if the file exists, otherwise a new file is created.\n",
    "\n",
    "- **ab+** Opens the file for appending and reading. The file pointer is at the end of the file if the file exists, otherwise a new file is created for reading and writing."
   ]
  },
  {
   "cell_type": "markdown",
   "metadata": {},
   "source": [
    "## Context manager in file handling"
   ]
  },
  {
   "cell_type": "markdown",
   "metadata": {},
   "source": [
    "- Context managers allow you to allocate and release resources precisely when you want to. \n",
    "- The most widely used example of context managers is the with statement."
   ]
  },
  {
   "cell_type": "code",
   "execution_count": null,
   "metadata": {},
   "outputs": [],
   "source": [
    "with open('some_file.txt', 'w') as fp:\n",
    "    fp.write('Hello World!') # opened_file scope is only within the with block"
   ]
  },
  {
   "cell_type": "code",
   "execution_count": null,
   "metadata": {},
   "outputs": [],
   "source": [
    "l = [\"Hello\", \"There\"]\n",
    "with open(\"list.txt\", \"w\") as fp:\n",
    "    for each in l:\n",
    "        fp.write(each)"
   ]
  },
  {
   "cell_type": "code",
   "execution_count": null,
   "metadata": {},
   "outputs": [],
   "source": [
    "data = None\n",
    "with open(\"list.txt\", \"r\") as fp:\n",
    "    data = fp.read()\n",
    "print(data)"
   ]
  },
  {
   "cell_type": "code",
   "execution_count": null,
   "metadata": {},
   "outputs": [],
   "source": [
    "import os\n",
    "print(os.getcwd())"
   ]
  },
  {
   "cell_type": "markdown",
   "metadata": {},
   "source": [
    "# Python File Methods"
   ]
  },
  {
   "cell_type": "markdown",
   "metadata": {},
   "source": [
    "- **close()** Close an open file. It has no effect if the file is already closed.\n",
    "- **detach()** Separate the underlying binary buffer from the TextIOBase and return it.\n",
    "- **fileno()** Return an integer number (file descriptor) of the file.\n",
    "- **flush()** Flush the write buffer of the file stream.\n",
    "- **isatty()** Return True if the file stream is interactive.\n",
    "- **read(n)** Read atmost n characters form the file. Reads till end of file if it is negative or None.\n",
    "- **readable()** Returns True if the file stream can be read from.\n",
    "- **readline(n=-1)** Read and return one line from the file. Reads in at most n bytes if specified.\n",
    "- **seek(offset,from=SEEK_SET)** Change the file position to offset bytes, in reference to from (start, current, end).\n",
    "- **seekable()** Returns True if the file stream supports random access.\n",
    "- **tell()** Returns the current file location.\n",
    "- **truncate(size=None)** Resize the file stream to size bytes. If size is not specified, resize to current location.\n",
    "- **writable()** Returns True if the file stream can be written to.\n",
    "- **write(s)** Write string s to the file and return the number of characters written.\n",
    "- **writelines(lines)** Write a list of lines to the file."
   ]
  }
 ],
 "metadata": {
  "kernelspec": {
   "display_name": "Python 2",
   "language": "python",
   "name": "python2"
  },
  "language_info": {
   "codemirror_mode": {
    "name": "ipython",
    "version": 2
   },
   "file_extension": ".py",
   "mimetype": "text/x-python",
   "name": "python",
   "nbconvert_exporter": "python",
   "pygments_lexer": "ipython2",
   "version": "2.7.15rc1"
  }
 },
 "nbformat": 4,
 "nbformat_minor": 1
}
