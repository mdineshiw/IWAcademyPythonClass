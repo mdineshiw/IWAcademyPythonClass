{
 "cells": [
  {
   "cell_type": "markdown",
   "metadata": {},
   "source": [
    "# OOP in Python"
   ]
  },
  {
   "cell_type": "markdown",
   "metadata": {},
   "source": [
    "- Procedural programming\n",
    "- Object-Oriented programming (OOP)\n",
    "- OOP is much more similar to the way the real world works\n",
    "- Each program is made up of many entities called objects."
   ]
  },
  {
   "cell_type": "markdown",
   "metadata": {},
   "source": [
    "## Features of OOP\n",
    "- Ability to simulate real-world event much more effectively\n",
    "- Code is reusable thus less code may have to be written\n",
    "- Better able to create GUI (graphical user interface) applications also WEB (ORM)\n",
    "- Programmers are able to produce faster, more accurate and better-written applications"
   ]
  },
  {
   "cell_type": "markdown",
   "metadata": {},
   "source": [
    "## What is an Object..?\n",
    "- Objects are the basic run-time entities in an object-oriented system.\n",
    "- They may represent a person, a place, a bank account, etc\n",
    "- Objects interact by sending messages to one another.\n",
    "- Objects have two components:\n",
    "    - Data (i.e., attributes)\n",
    "    - Behaviors (i.e., methods)"
   ]
  },
  {
   "cell_type": "markdown",
   "metadata": {},
   "source": [
    "## Attributes and Methods\n",
    "|Attributes|Methods|\n",
    "|----------|--------|\n",
    "|Driver |PickUp|\n",
    "|OnDuty|DropOff|\n",
    "| NumPassengers|GetDriver|\n",
    "| Location|GetNumPassengers|\n",
    "||SetNumPassengers|"
   ]
  },
  {
   "cell_type": "markdown",
   "metadata": {},
   "source": [
    "\n",
    "## Methods and dir()"
   ]
  },
  {
   "cell_type": "code",
   "execution_count": null,
   "metadata": {},
   "outputs": [],
   "source": [
    "my_str = \"Hello World!\"\n",
    "print(dir(my_str))"
   ]
  },
  {
   "cell_type": "code",
   "execution_count": null,
   "metadata": {
    "scrolled": true
   },
   "outputs": [],
   "source": [
    "# l = [\"hello\", \"hola\", \"world\"]\n",
    "# for each in l:\n",
    "#     if each.startswith(\"h\"):\n",
    "#         print(each)\n",
    "\n",
    "x = \"Hello World\"\n",
    "print(x.split(\" \"))"
   ]
  },
  {
   "cell_type": "markdown",
   "metadata": {},
   "source": [
    "## What's `'__***__'` ?"
   ]
  },
  {
   "cell_type": "markdown",
   "metadata": {},
   "source": [
    "- dunder (double under) or \"special/magic\"\n",
    "- methods determine what will happen when + ( \\_\\_add\\_\\_ ) or / ( \\_\\_div\\_\\_ ) is called."
   ]
  },
  {
   "cell_type": "markdown",
   "metadata": {},
   "source": [
    "# Class"
   ]
  },
  {
   "cell_type": "markdown",
   "metadata": {},
   "source": [
    "## What is a Class..?\n",
    "- A class is a prototype/blue print which defines how to build a certain kind of object.\n",
    "- The class also stores some data items that are shared by all the instances of this class (attributes)\n",
    "- Instances are objects that are created which follow the definition given inside of the class"
   ]
  },
  {
   "cell_type": "code",
   "execution_count": null,
   "metadata": {},
   "outputs": [],
   "source": [
    "#!/usr/bin/python3\n",
    "class MyFirstClass:\n",
    "    \"\"\"This is a doc string abc\"\"\"\n",
    "    pass"
   ]
  },
  {
   "cell_type": "code",
   "execution_count": null,
   "metadata": {},
   "outputs": [],
   "source": [
    "# Insatances / objects\n",
    "a = MyFirstClass()\n",
    "b = MyFirstClass()\n",
    "print(a.__doc__)"
   ]
  },
  {
   "cell_type": "code",
   "execution_count": null,
   "metadata": {},
   "outputs": [],
   "source": [
    "print(dir(object))"
   ]
  },
  {
   "cell_type": "code",
   "execution_count": null,
   "metadata": {
    "scrolled": true
   },
   "outputs": [],
   "source": [
    "print(dir(a))\n",
    "# print(a.__dict__)\n",
    "# print(a.__doc__)\n",
    "#print(a.__hash__())\n",
    "#print(a.__sizeof__())\n",
    "#print(a.__str__())"
   ]
  },
  {
   "cell_type": "markdown",
   "metadata": {},
   "source": [
    "## Class with attributes"
   ]
  },
  {
   "cell_type": "code",
   "execution_count": null,
   "metadata": {},
   "outputs": [],
   "source": [
    "class Point:\n",
    "    pass\n",
    "\n",
    "p1 = Point()\n",
    "p2 = Point()\n",
    "\n",
    "p1.x = 5\n",
    "p1.y = 4\n",
    "\n",
    "p2.x = 3\n",
    "p2.y = 6\n",
    "\n",
    "print(p1.x, p1.y)\n",
    "print(p2.x, p2.y)"
   ]
  },
  {
   "cell_type": "markdown",
   "metadata": {},
   "source": [
    "# Class with method"
   ]
  },
  {
   "cell_type": "code",
   "execution_count": null,
   "metadata": {},
   "outputs": [],
   "source": [
    "class Point:\n",
    "    def reset(self):\n",
    "        self.x = 0\n",
    "        self.y = 0\n",
    "\n",
    "p = Point()\n",
    "p2 = Point()\n",
    "p.x = 5\n",
    "p.y = 4\n",
    "print(p.x, p.y)\n",
    "p.reset()\n",
    "p2.reset()\n",
    "print(p.x, p.y)"
   ]
  },
  {
   "cell_type": "code",
   "execution_count": null,
   "metadata": {},
   "outputs": [],
   "source": [
    "# Invoking method statically\n",
    "class Point:\n",
    "    def reset(self):\n",
    "        self.x = 0\n",
    "        self.y = 0\n",
    "\n",
    "p = Point()\n",
    "Point.reset(p)\n",
    "print(p.x, p.y)"
   ]
  },
  {
   "cell_type": "markdown",
   "metadata": {},
   "source": [
    "# The proper python class"
   ]
  },
  {
   "cell_type": "markdown",
   "metadata": {},
   "source": [
    "- By convention, the class name should start with Capital letter\n",
    "- The class also stores some data items that are shared by all the instances of this class\n",
    "- Instances are objects that are created which follow the definition given inside of the class\n",
    "- Define a method in a class by including function definitions (def) within the scope of the class block\n",
    "- There must be a special first argument `self` in all of method definitions which gets bound to the calling instance\n",
    "- There is usually a special method called `__init__` in most classes.\n",
    "- `__init__` is the constructor"
   ]
  },
  {
   "cell_type": "code",
   "execution_count": null,
   "metadata": {},
   "outputs": [],
   "source": [
    "class Employee:\n",
    "    \"\"\" This is a doc string for Employee class\"\"\"\n",
    "    def __init__(self, first, last, pay):\n",
    "        # here self is the automatically invoked instance to the method\n",
    "        self.first = first\n",
    "        self.last = last\n",
    "        self.pay = pay\n",
    "        # email can be derived from the \"first\" and \"last\" name\n",
    "        self.email = self.first+\".\"+self.last+\"company.com\"\n",
    "\n",
    "    # a method that returns fullname. self is a must for any method\n",
    "    def fullname(self):\n",
    "        return \"{0} {1}\".format(self.first, self.last)"
   ]
  },
  {
   "cell_type": "markdown",
   "metadata": {},
   "source": [
    "- `__init__` is the default constructor\n",
    "- `__init__` serves as a constructor for the class. \n",
    "- Usually does some initialization work\n",
    "- An `__init__` method can take any number of arguments\n",
    "- However, the first argument self in the definition of `__init__` is special"
   ]
  },
  {
   "cell_type": "code",
   "execution_count": null,
   "metadata": {},
   "outputs": [],
   "source": [
    "# instances with data\n",
    "emp_1 = Employee(\"Dinesh\", \"Mishra\", 50000)\n",
    "emp_2 = Employee(\"Test\", \"User\", 60000)"
   ]
  },
  {
   "cell_type": "code",
   "execution_count": null,
   "metadata": {},
   "outputs": [],
   "source": [
    "# print(emp_1.__dict__)\n",
    "# print(dir(emp_1))\n",
    "# print(emp_2.email)"
   ]
  },
  {
   "cell_type": "code",
   "execution_count": null,
   "metadata": {},
   "outputs": [],
   "source": [
    "# While calling a methods, don't forget the parenthesis\n",
    "print(emp_1.fullname())\n",
    "print(emp_2.fullname())"
   ]
  },
  {
   "cell_type": "code",
   "execution_count": null,
   "metadata": {},
   "outputs": [],
   "source": [
    "# calling method directly from class.\n",
    "# To do so, we need to pass the instance we created.\n",
    "# Remember the self we added in the method :)\n",
    "print(\"Directly from class---> \",Employee.fullname(emp_1))\n",
    "print(\"Directly from class---> \",Employee.fullname(emp_2))"
   ]
  }
 ],
 "metadata": {
  "kernelspec": {
   "display_name": "Python 2",
   "language": "python",
   "name": "python2"
  },
  "language_info": {
   "codemirror_mode": {
    "name": "ipython",
    "version": 2
   },
   "file_extension": ".py",
   "mimetype": "text/x-python",
   "name": "python",
   "nbconvert_exporter": "python",
   "pygments_lexer": "ipython2",
   "version": "2.7.15rc1"
  }
 },
 "nbformat": 4,
 "nbformat_minor": 1
}
