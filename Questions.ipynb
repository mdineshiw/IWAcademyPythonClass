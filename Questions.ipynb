{
 "cells": [
  {
   "cell_type": "markdown",
   "metadata": {},
   "source": [
    "# Basics\n",
    "<hr>"
   ]
  },
  {
   "cell_type": "markdown",
   "metadata": {},
   "source": [
    "Q1. Write a simple python script (any script) with what you've learned till now. Use the slides from previous lectures for reference."
   ]
  },
  {
   "cell_type": "markdown",
   "metadata": {},
   "source": [
    "Q2. Write a Python program which accepts the radius of a circle from the user and compute the area. [Note: use string formatter and placeholders to prettify your output. Your output should be only upto 3 dedimal places.]\n"
   ]
  },
  {
   "cell_type": "markdown",
   "metadata": {},
   "source": [
    "Q3. Write a function which accepts your friend's name as a argument and prints a Happy Birthday song for him/her."
   ]
  },
  {
   "cell_type": "markdown",
   "metadata": {},
   "source": [
    "Q4. Write a Python script to prove that `(a+b)² = a²+2ab+b²`"
   ]
  },
  {
   "cell_type": "markdown",
   "metadata": {},
   "source": [
    "Q5. Write a Python script that prints \"Hello World\" ten times. (no new lines at the end)"
   ]
  },
  {
   "cell_type": "markdown",
   "metadata": {},
   "source": [
    "Q6. Define a function to determine whether the user's integer input is a even number or an odd number."
   ]
  },
  {
   "cell_type": "markdown",
   "metadata": {},
   "source": [
    "Q7. Define a global static password value by yourself. Then define a function which prompts user for a password. If the password is a match, print \"password match\" or else print \"Wrong password\""
   ]
  },
  {
   "cell_type": "markdown",
   "metadata": {},
   "source": [
    "Q8. We have v=u+at where v is velocity, u is initial velocity, and t is time. And value for each is as follows: v=25m/s. u=0m/s, t=10 seconds. Find the acceleration a. [Rearrange the equation, also use proper formatting syntax while displaying the answer.]"
   ]
  },
  {
   "cell_type": "code",
   "execution_count": null,
   "metadata": {},
   "outputs": [],
   "source": [
    "v = 25\n",
    "u = 0\n",
    "t = 10\n",
    "a = (v-u)/t\n",
    "print(\"Acceleration = {}m/s^2\".format(a))"
   ]
  },
  {
   "cell_type": "markdown",
   "metadata": {},
   "source": [
    "# Datastructures and functions\n",
    "<hr>"
   ]
  },
  {
   "cell_type": "markdown",
   "metadata": {},
   "source": [
    "Q. Write a for loop to loop over a tuple, t = (1, 2, 3, 4, 5) and print out the odd ones."
   ]
  },
  {
   "cell_type": "markdown",
   "metadata": {},
   "source": [
    "Q. Given a list, li = [3, 1, 2, 6, 7, 8, 9]\n",
    "   Sort it in decending order and reverse it using the slice tool\n",
    "   \n",
    "   The expected output is: [9, 8, 7, 6, 3, 2, 1]"
   ]
  },
  {
   "cell_type": "code",
   "execution_count": null,
   "metadata": {},
   "outputs": [],
   "source": [
    "li = [3, 1, 2, 6, 7, 8, 9]\n",
    "# li.sort(reverse=True)\n",
    "s_list = sorted(li, reverse=True)\n",
    "print(s_list)"
   ]
  },
  {
   "cell_type": "markdown",
   "metadata": {},
   "source": [
    "Q. Given a multi dimension list, mylist = [[1,2,3],[4,5,6,7],[8,9,10]] . Loop over it, and print only the odd numbers."
   ]
  },
  {
   "cell_type": "markdown",
   "metadata": {},
   "source": [
    "Q9. The salary of employees in a software company is stored in a list, i.e. salary = [15000, 20000, 17000, 18900, 30000]. When annual review was conducted, accounting department made a decision to increase the salary of every employee by 23%. Now, write a pythonic code to find out how much is the total salary for each employee after the raise."
   ]
  },
  {
   "cell_type": "code",
   "execution_count": null,
   "metadata": {},
   "outputs": [],
   "source": [
    "def increment_salary(salary):\n",
    "    new_salary = []\n",
    "    for each in salary:\n",
    "        n_salary = each + (each*0.23)\n",
    "        new_salary.append(n_salary)\n",
    "    return new_salary\n",
    "\n",
    "salary = [15000, 20000, 17000, 18900, 30000]\n",
    "print(increment_salary(salary))"
   ]
  },
  {
   "cell_type": "code",
   "execution_count": null,
   "metadata": {},
   "outputs": [],
   "source": [
    "def raise_salary(salary):\n",
    "    raised_salary = []\n",
    "    for sal in salary:\n",
    "        new_sal = sal + sal*0.23\n",
    "        raised_salary.append(new_sal)\n",
    "    return raised_salary\n",
    "\n",
    "old_salary = [15000, 20000, 17000, 18900, 30000]\n",
    "\n",
    "print(raise_salary(old_salary))"
   ]
  },
  {
   "cell_type": "markdown",
   "metadata": {},
   "source": [
    "Q10. Given a list of integers, my_list = [4,2,4,0,2,4,5,7,8,9,23,8,5,4,2,2,34,4,45]. Find the maximum and minimum numbers in the list. (DO NOT USE BUILT-IN MAX, MIN FUNCTIONS)"
   ]
  },
  {
   "cell_type": "markdown",
   "metadata": {},
   "source": [
    "Q11. Define a function that takes in a list arbitary_list = [1, 2, 4, 4, 3, 5, 6]. Inside the function each element of the list is extracted and is cubed. Finally, The squared value is then appened to another list and is returned."
   ]
  },
  {
   "cell_type": "code",
   "execution_count": null,
   "metadata": {},
   "outputs": [],
   "source": [
    "def cubed(arb):\n",
    "    cubes = []\n",
    "    for each in arb:\n",
    "        cubes.append(each**3)\n",
    "    return cubes\n",
    "\n",
    "arbitary_list = [1, 2, 4, 4, 3, 5, 6]\n",
    "print(cubed(arbitary_list))"
   ]
  },
  {
   "cell_type": "markdown",
   "metadata": {},
   "source": [
    "Q12. Write a function that solves the equation, y=mx+c where different values of x'es are [1, 2.3, 5.6, 7, 78]. Your function shouldn't return any values but must print the value of y for each iteration. value of y should be in 2 decimal format. (m = 45, c = 0.5)\n",
    "\n",
    "For your convenience, the skeleton code for Q4 is as follows:\n",
    "```\n",
    "def solve_for_y(x_values):\n",
    "    # initialize m and c here\n",
    "    for x in x_values:\n",
    "        # solve equation here and find y\n",
    "        # print y\n",
    "\n",
    "solve_for_y(x_values)\n",
    "```"
   ]
  },
  {
   "cell_type": "code",
   "execution_count": null,
   "metadata": {},
   "outputs": [],
   "source": [
    "def solve_eqn(xes):\n",
    "    m = 45\n",
    "    c = 0.5\n",
    "    for x in xes:\n",
    "        y = m * x + c\n",
    "        print(\"Value of y for x = {} is {:.2f}\".format(x, y))\n",
    "        \n",
    "print(solve_eqn([1, 2.3, 5.6, 7, 78]))"
   ]
  },
  {
   "cell_type": "markdown",
   "metadata": {},
   "source": [
    "Q13. Write a function that prompts user to input his/her full name. After user enter's his/her full name, split it and store it in variables first_name and last_name. (hint: use string's split method. Also handle condition for his/her middle name as well)"
   ]
  },
  {
   "cell_type": "code",
   "execution_count": null,
   "metadata": {},
   "outputs": [],
   "source": [
    "def get_name():\n",
    "    f_name = input('Enter full name')\n",
    "    f_name_list = f_name.split(\" \")\n",
    "    first, last = f_name_list\n",
    "    print(\"First name={}, Last={}\".format(first, last))\n",
    "get_name()"
   ]
  },
  {
   "cell_type": "code",
   "execution_count": null,
   "metadata": {},
   "outputs": [],
   "source": [
    "def get_name():\n",
    "    f_name = input('Enter full name')\n",
    "    f_name_list = f_name.split(\" \")\n",
    "    if(len(f_name_list)==2):\n",
    "        first, last = tuple(f_name_list)\n",
    "        print(\"First name={}, Last={}\".format(first, last))\n",
    "    elif(len(f_name_list)==3):\n",
    "        first, middle, last = tuple(f_name_list)\n",
    "        print(\"First name={},middle={},Last={}\".format(first,middle,last))\n",
    "    else:\n",
    "        print(\"Not a valid name\")\n",
    "get_name()"
   ]
  },
  {
   "cell_type": "code",
   "execution_count": null,
   "metadata": {},
   "outputs": [],
   "source": [
    "def get_names(val = input(\"Enter your name:\")):\n",
    "    names = val.split(\" \")\n",
    "    \n",
    "    if len(names)==2:\n",
    "        first, last = (names[0], names[1])\n",
    "        print(\"First name: {} Last_name: {}\".format(first, last))\n",
    "    elif len(names)==3:\n",
    "        first, middle, last = (names[0], names[1], names[2])\n",
    "        print(\"First name: {} Middle name: {} Last_name: {}\".format(first, middle, last))\n",
    "    else:\n",
    "        pass\n",
    "get_names()"
   ]
  },
  {
   "cell_type": "markdown",
   "metadata": {},
   "source": [
    "Q14. Write a function that simply returns (\"Hello\", 45, 23.3). Now, call this function and unpack the returned values and print it."
   ]
  },
  {
   "cell_type": "code",
   "execution_count": null,
   "metadata": {},
   "outputs": [],
   "source": [
    "def ret():\n",
    "    return (\"Hello\", 45, 23.3)\n",
    "\n",
    "x, y, z = ret()\n",
    "print(x)\n",
    "print(y)\n",
    "print(z)"
   ]
  },
  {
   "cell_type": "code",
   "execution_count": null,
   "metadata": {},
   "outputs": [],
   "source": [
    "def pack():\n",
    "    array = [\"Hello\", 45, 23.3]\n",
    "    return array\n",
    "\n",
    "\n",
    "x, y, z = pack()\n",
    "print(x)\n",
    "print(y)\n",
    "print(z)"
   ]
  },
  {
   "cell_type": "markdown",
   "metadata": {},
   "source": [
    "Q15. Given a string \"I love Python programming language\", extract the word \"programming\" (use slicing)"
   ]
  },
  {
   "cell_type": "code",
   "execution_count": null,
   "metadata": {},
   "outputs": [],
   "source": [
    "string =  \"I love Python programming language\"\n",
    "string[14:25]"
   ]
  },
  {
   "cell_type": "markdown",
   "metadata": {},
   "source": [
    "Q16. Given two strings:\n",
    "str_1 = \"Hello my name is Ram\"\n",
    "str_2 = \"Ram is my name\"\n",
    "\n",
    "Find the similar words between these two strings."
   ]
  },
  {
   "cell_type": "markdown",
   "metadata": {},
   "source": [
    "Q17. Give a list of numbers: [1, 2, 4, 2,2,3,23,33,3,3,3,3, 4, 4,5,6, 6, 7,8,8, 8,8, 8,8,8,9,9,9,7,6,5,5,6,7,7,8,9,9,6,4,3,3,3,43,534,456,6,56,75,7,778,78,86,8,7,997]\n",
    "\n",
    "Count the number of unique elements in the list."
   ]
  },
  {
   "cell_type": "markdown",
   "metadata": {},
   "source": [
    "Q18. Given a dictionary:\n",
    "```\n",
    "my_dict = {\n",
    "    \"a\" : 123,\n",
    "    \"b\" : 345,\n",
    "    \"c\" : 456\n",
    "}\n",
    "```\n",
    "\n",
    "- Check if \"xyz\" belongs to my_dict\n",
    "- Update the value of \"b\" with [3, 4, 5]\n",
    "- Loop over my_dict and print key:value pair"
   ]
  },
  {
   "cell_type": "code",
   "execution_count": null,
   "metadata": {},
   "outputs": [],
   "source": [
    "my_dict = {\n",
    "    \"a\" : 123,\n",
    "    \"b\" : 345,\n",
    "    \"c\" : 456\n",
    "}\n",
    "\n",
    "# \"xyz\" in my_dict\n",
    "# my_dict[\"b\"] = [3, 4, 5]\n",
    "# print(my_dict)\n",
    "for key, val in my_dict.items():\n",
    "    print(key, val)"
   ]
  },
  {
   "cell_type": "markdown",
   "metadata": {},
   "source": [
    "Q19. Q7. Ask for a number (n) as an input from user. Using the use input (n), write a program to generate a dictionary that contains (i, i\\*i) where i is key and (i\\*i) is a value for numbers between the range 1 and n (both included). and then the program should print the dictionary.\n",
    "Suppose the following input is supplied to the program:\n",
    "8\n",
    "Then, the output should be:\n",
    "{1: 1, 2: 4, 3: 9, 4: 16, 5: 25, 6: 36, 7: 49, 8: 64}"
   ]
  },
  {
   "cell_type": "markdown",
   "metadata": {},
   "source": [
    "Q20. Write a program that accepts a comma separated sequence of words as input and prints the words in a comma-separated sequence after sorting them alphabetically.\n",
    "\n",
    "Suppose the following input is supplied to the program:\n",
    "\n",
    "```\n",
    "without,hello,bag,world\n",
    "```\n",
    "\n",
    "Then, the output should be:\n",
    "\n",
    "```\n",
    "bag,hello,without,world\n",
    "```"
   ]
  },
  {
   "cell_type": "markdown",
   "metadata": {},
   "source": [
    "Q21. Simulate Switch statement using Python dictionary datastructures."
   ]
  },
  {
   "cell_type": "markdown",
   "metadata": {},
   "source": [
    "Q22. Write a program that counts and print the numbers of each character in a string input by user.\n",
    "\n",
    "Example:\n",
    "For following input:\n",
    "abaaabbba\n",
    "\n",
    "The output should be:\n",
    "{'a':5, 'b':4}\n",
    "\n",
    "**HINT: use dictonary .get method**"
   ]
  },
  {
   "cell_type": "markdown",
   "metadata": {},
   "source": [
    "Q23. For the output you received from Question 22, use comprehension to print following output:\n",
    "\n",
    "For example, \n",
    "if output of Question 22 is: \n",
    "{'a':5, 'b':4, 'c':2}\n",
    "\n",
    "The output of your program for question 23 should be:\n",
    "a,5\n",
    "b,4\n",
    "c,2"
   ]
  },
  {
   "cell_type": "markdown",
   "metadata": {},
   "source": [
    "<hr>\n",
    "# Comprehensions\n",
    "<hr>"
   ]
  },
  {
   "cell_type": "markdown",
   "metadata": {},
   "source": [
    "Q24. Write a program which can filter even numbers in a list by using filter function. The list is: [1,2,3,4,5,6,7,8,9,10].\n",
    "(Use lambda and filter)"
   ]
  },
  {
   "cell_type": "markdown",
   "metadata": {},
   "source": [
    "Q25. Write a program which can map() to make a list whose elements are square of elements in [1,2,3,4,5,6,7,8,9,10]."
   ]
  },
  {
   "cell_type": "markdown",
   "metadata": {},
   "source": [
    "Q26. Write a program which can map() and filter() to make a list whose elements are square of even number in [1,2,3,4,5,6,7,8,9,10]."
   ]
  },
  {
   "cell_type": "markdown",
   "metadata": {},
   "source": [
    "Q27. Write a lambda function for division. Make sure you handle case for ZeroDivisionError. i.e. if y=0, return \"zero division not allowed\""
   ]
  },
  {
   "cell_type": "markdown",
   "metadata": {},
   "source": [
    "<hr>\n",
    "# Files\n",
    "<hr>"
   ]
  },
  {
   "cell_type": "markdown",
   "metadata": {},
   "source": [
    "Q28. Create a python script (.py file) that prints \"Hello World\" using the concept of file."
   ]
  },
  {
   "cell_type": "markdown",
   "metadata": {},
   "source": [
    "Q29. Read the script written in question 26."
   ]
  },
  {
   "cell_type": "markdown",
   "metadata": {},
   "source": [
    "Q30. \n",
    "- Create a file name \"old.txt\".\n",
    "- Write \"Hello World\" in that file.\n",
    "- Create another file \"new.txt\"\n",
    "- Copy contents from \"old.txt\" to \"new.txt\" file\n",
    "- Use context manager"
   ]
  },
  {
   "cell_type": "markdown",
   "metadata": {},
   "source": [
    "Q31. Use try-except-finally to read a file."
   ]
  }
 ],
 "metadata": {
  "kernelspec": {
   "display_name": "Python 2",
   "language": "python",
   "name": "python2"
  },
  "language_info": {
   "codemirror_mode": {
    "name": "ipython",
    "version": 2
   },
   "file_extension": ".py",
   "mimetype": "text/x-python",
   "name": "python",
   "nbconvert_exporter": "python",
   "pygments_lexer": "ipython2",
   "version": "2.7.15rc1"
  }
 },
 "nbformat": 4,
 "nbformat_minor": 1
}
